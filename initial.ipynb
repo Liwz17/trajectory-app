{
 "cells": [
  {
   "cell_type": "code",
   "execution_count": null,
   "metadata": {
    "vscode": {
     "languageId": "r"
    }
   },
   "outputs": [],
   "source": [
    "# ---- load globals ----\n",
    "source(\"R/globals.R\", local = TRUE)\n",
    "\n",
    "source(\"R/data_loading.R\", local = TRUE)\n",
    "\n",
    "\n",
    "source(\"R/module_rotate.R\", local = TRUE)\n",
    "\n",
    "library(plotly)       \n",
    "library(base64enc)    \n",
    "source(\"R/module_select.R\") \n",
    "\n",
    "source(\"R/download.R\", local = TRUE)\n",
    "\n",
    "\n",
    "source(\"R/plot.R\", local = TRUE)\n",
    "\n",
    "source(\"R/distance.R\", local = TRUE)\n",
    "\n",
    "source(\"R/gam_analysis.R\", local = TRUE)\n",
    "\n",
    "source(\"R/GO_utils.R\", local = TRUE)\n",
    "\n",
    "source(\"R/traj_utils.R\", local = TRUE)"
   ]
  },
  {
   "cell_type": "code",
   "execution_count": null,
   "metadata": {
    "vscode": {
     "languageId": "r"
    }
   },
   "outputs": [],
   "source": []
  },
  {
   "cell_type": "code",
   "execution_count": null,
   "metadata": {
    "vscode": {
     "languageId": "r"
    }
   },
   "outputs": [],
   "source": []
  }
 ],
 "metadata": {
  "kernelspec": {
   "display_name": "R",
   "language": "R",
   "name": "ir"
  },
  "language_info": {
   "name": "R"
  }
 },
 "nbformat": 4,
 "nbformat_minor": 2
}
